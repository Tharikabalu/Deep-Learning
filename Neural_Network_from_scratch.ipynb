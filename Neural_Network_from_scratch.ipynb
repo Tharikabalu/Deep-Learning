{
  "nbformat": 4,
  "nbformat_minor": 0,
  "metadata": {
    "colab": {
      "provenance": []
    },
    "kernelspec": {
      "name": "python3",
      "display_name": "Python 3"
    },
    "language_info": {
      "name": "python"
    }
  },
  "cells": [
    {
      "cell_type": "code",
      "execution_count": 1,
      "metadata": {
        "id": "DF9uH-RXrkeF"
      },
      "outputs": [],
      "source": [
        "import numpy as np\n",
        "import tensorflow as tf\n",
        "import matplotlib.pyplot as plt"
      ]
    },
    {
      "cell_type": "code",
      "source": [
        "def load_coffee_data():\n",
        "  rng = np.random.default_rng(2)\n",
        "  X = rng.random(400).reshape(-1,2)\n",
        "  X[:,1] = X[:,1] * 4 + 11.5\n",
        "  X[:,0] = X[:,0] * (285-150) + 150\n",
        "  Y = np.zeros(len(X))\n",
        "  i=0\n",
        "  for t,d in X:\n",
        "    y = -3/(260-175)*t + 21\n",
        "    if (t > 175 and t < 260 and d > 12 and d < 15 and d<=y ):\n",
        "      Y[i] = 1\n",
        "    else:\n",
        "      Y[i] = 0\n",
        "    i += 1\n",
        "\n",
        "  return (X, Y.reshape(-1,1))"
      ],
      "metadata": {
        "id": "xIF4obcPtPag"
      },
      "execution_count": 2,
      "outputs": []
    },
    {
      "cell_type": "code",
      "source": [
        "X,Y = load_coffee_data()\n",
        "X.shape, Y.shape"
      ],
      "metadata": {
        "colab": {
          "base_uri": "https://localhost:8080/"
        },
        "id": "eQoRoVHmtR4N",
        "outputId": "76a607b1-d8fc-4b1e-d9b2-0e3ccc0a40ba"
      },
      "execution_count": 3,
      "outputs": [
        {
          "output_type": "execute_result",
          "data": {
            "text/plain": [
              "((200, 2), (200, 1))"
            ]
          },
          "metadata": {},
          "execution_count": 3
        }
      ]
    },
    {
      "cell_type": "code",
      "source": [
        "norm=tf.keras.layers.Normalization(axis=-1)\n",
        "norm.adapt(X)\n",
        "Xn=norm(X)\n",
        "Xn[:5]"
      ],
      "metadata": {
        "colab": {
          "base_uri": "https://localhost:8080/"
        },
        "id": "AChx36CftUKU",
        "outputId": "4805a2e9-d5d4-447f-9229-761182a33795"
      },
      "execution_count": 4,
      "outputs": [
        {
          "output_type": "execute_result",
          "data": {
            "text/plain": [
              "<tf.Tensor: shape=(5, 2), dtype=float32, numpy=\n",
              "array([[-0.8345551, -0.6528792],\n",
              "       [ 1.0323051, -1.3851453],\n",
              "       [ 0.3089391,  0.8716251],\n",
              "       [-1.0835688, -1.5154841],\n",
              "       [-0.7894313,  0.6194935]], dtype=float32)>"
            ]
          },
          "metadata": {},
          "execution_count": 4
        }
      ]
    },
    {
      "cell_type": "code",
      "source": [
        "def sigmoid(z):\n",
        "  return 1/(1+np.exp(-z))"
      ],
      "metadata": {
        "id": "FTrGJeWeHv3K"
      },
      "execution_count": 8,
      "outputs": []
    },
    {
      "cell_type": "code",
      "source": [
        "def Dense(inp,w,b):\n",
        "  units=w.shape[1]\n",
        "  a_out=np.zeros(units)\n",
        "  for i in range(units):\n",
        "    wi=w[:,i]\n",
        "    z=np.dot(inp,wi)+b[i]\n",
        "    a_out[i]=sigmoid(z)\n",
        "  return (a_out)"
      ],
      "metadata": {
        "id": "zaFh8EoKt75T"
      },
      "execution_count": 19,
      "outputs": []
    },
    {
      "cell_type": "code",
      "source": [
        "def Sequential(x,w1,b1,w2,b2):\n",
        "  a1=Dense(x,w1,b1)\n",
        "  a2=Dense(a1,w2,b2)\n",
        "  return (a2)"
      ],
      "metadata": {
        "id": "U81uc9fDquep"
      },
      "execution_count": 20,
      "outputs": []
    },
    {
      "cell_type": "code",
      "source": [
        "def predict(x,w1,b1,w2,b2):\n",
        "  m=x.shape[0]\n",
        "  y=np.zeros((m,1))\n",
        "  for i in range(m):\n",
        "    y[i,0]=Sequential(x[i],w1,b1,w2,b2)\n",
        "    if y[i,0]>0.5:\n",
        "      y[i,0]=(1)\n",
        "    else:\n",
        "      y[i,0]=int(0)\n",
        "  return (y)"
      ],
      "metadata": {
        "id": "SZK5gTgnCgWA"
      },
      "execution_count": 25,
      "outputs": []
    },
    {
      "cell_type": "code",
      "source": [
        "x_test=np.array([[200,13.9], [200,17],[200,20]])\n",
        "xn_test=norm(x_test)\n",
        "w1=np.array( [[-8.93,  0.29, 12.9 ], [-0.1,  -7.32, 10.81]] )\n",
        "w2=np.array( [[-31.18], [-27.59], [-32.56]] )\n",
        "b1=np.array( [-9.82, -9.28,  0.96] )\n",
        "b2=np.array( [15.41] )\n",
        "y_test=predict(xn_test,w1,b1,w2,b2)\n",
        "y_test"
      ],
      "metadata": {
        "id": "JNUayLqysFLP",
        "colab": {
          "base_uri": "https://localhost:8080/"
        },
        "outputId": "9200a521-3094-4866-cacd-cf82dbbdcf55"
      },
      "execution_count": 26,
      "outputs": [
        {
          "output_type": "stream",
          "name": "stderr",
          "text": [
            "<ipython-input-25-1e84510feeef>:5: DeprecationWarning: Conversion of an array with ndim > 0 to a scalar is deprecated, and will error in future. Ensure you extract a single element from your array before performing this operation. (Deprecated NumPy 1.25.)\n",
            "  y[i,0]=Sequential(x[i],w1,b1,w2,b2)\n"
          ]
        },
        {
          "output_type": "execute_result",
          "data": {
            "text/plain": [
              "array([[1.],\n",
              "       [0.],\n",
              "       [0.]])"
            ]
          },
          "metadata": {},
          "execution_count": 26
        }
      ]
    },
    {
      "cell_type": "code",
      "source": [],
      "metadata": {
        "id": "sNofse-XB-L0"
      },
      "execution_count": null,
      "outputs": []
    }
  ]
}